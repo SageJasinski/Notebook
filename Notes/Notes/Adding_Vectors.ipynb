{
 "cells": [
  {
   "cell_type": "markdown",
   "id": "1595ea3c-1f0d-41cc-b69d-afbb8bc51f8a",
   "metadata": {},
   "source": [
    "# Adding Vectors\n",
    "\n",
    "When given multiple vectors to add together you simply add each corresponding entry to its adjacent counterpart in the corresponding vectors. It doen't matter which order you add vectors in as it will always yeaild the same result."
   ]
  },
  {
   "cell_type": "markdown",
   "id": "facfb94d-27d5-4ab7-9b0e-d8d38074b4a1",
   "metadata": {},
   "source": [
    "$$\n",
    "    \\begin{bmatrix}1&2&3\\\\4&5&6\\end{bmatrix} + \\begin{bmatrix}1&1&3\\\\2&2&6\\end{bmatrix} = \\begin{bmatrix}2&3&6\\\\6&7&12\\end{bmatrix}\n",
    "$$"
   ]
  },
  {
   "cell_type": "markdown",
   "id": "ce17cd40-3869-41c9-b991-c699636b07c1",
   "metadata": {},
   "source": [
    "Here you can see adding each entry to its corisponding entry gives us the new Vector but of the same rows and columns. WHen using an R2 vector we can plot this on a grpah and get a pretty intuitive representation of what is actually happening here."
   ]
  }
 ],
 "metadata": {
  "kernelspec": {
   "display_name": "Python 3 (ipykernel)",
   "language": "python",
   "name": "python3"
  },
  "language_info": {
   "codemirror_mode": {
    "name": "ipython",
    "version": 3
   },
   "file_extension": ".py",
   "mimetype": "text/x-python",
   "name": "python",
   "nbconvert_exporter": "python",
   "pygments_lexer": "ipython3",
   "version": "3.10.6"
  }
 },
 "nbformat": 4,
 "nbformat_minor": 5
}
