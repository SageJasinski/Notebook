{
 "cells": [
  {
   "cell_type": "markdown",
   "id": "1595ea3c-1f0d-41cc-b69d-afbb8bc51f8a",
   "metadata": {},
   "source": [
    "# Adding Vectors\n",
    "\n",
    "When given multiple vectors to add together you simply add each corresponding entry to its adjacent counterpart in the corresponding vectors. It doen't matter which order you add vectors in as it will always yeaild the same result."
   ]
  }
 ],
 "metadata": {
  "kernelspec": {
   "display_name": "Python 3 (ipykernel)",
   "language": "python",
   "name": "python3"
  },
  "language_info": {
   "codemirror_mode": {
    "name": "ipython",
    "version": 3
   },
   "file_extension": ".py",
   "mimetype": "text/x-python",
   "name": "python",
   "nbconvert_exporter": "python",
   "pygments_lexer": "ipython3",
   "version": "3.10.6"
  }
 },
 "nbformat": 4,
 "nbformat_minor": 5
}
